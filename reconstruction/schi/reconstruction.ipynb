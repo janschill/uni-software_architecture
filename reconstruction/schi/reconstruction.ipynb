{
 "nbformat": 4,
 "nbformat_minor": 2,
 "metadata": {
  "language_info": {
   "name": "python",
   "codemirror_mode": {
    "name": "ipython",
    "version": 3
   },
   "version": "3.7.4-final"
  },
  "orig_nbformat": 2,
  "file_extension": ".py",
  "mimetype": "text/x-python",
  "name": "python",
  "npconvert_exporter": "python",
  "pygments_lexer": "ipython3",
  "version": 3,
  "kernelspec": {
   "name": "python37464bitcb14106912414518be329d616dad403d",
   "display_name": "Python 3.7.4 64-bit"
  }
 },
 "cells": [
  {
   "cell_type": "code",
   "execution_count": 64,
   "metadata": {},
   "outputs": [],
   "source": [
    "import sys\n",
    "import re\n",
    "from os import walk\n",
    "from pathlib import Path\n",
    "from functools import reduce"
   ]
  },
  {
   "cell_type": "code",
   "execution_count": 13,
   "metadata": {},
   "outputs": [],
   "source": [
    "ROOT_PATH = \"/Users/janschill/code/rails/rails\""
   ]
  },
  {
   "cell_type": "code",
   "execution_count": 14,
   "metadata": {},
   "outputs": [],
   "source": [
    "def full_path(file_name):\n",
    "    return ROOT_PATH + file_name"
   ]
  },
  {
   "cell_type": "code",
   "execution_count": 6,
   "metadata": {},
   "outputs": [],
   "source": [
    "# Number of lines\n",
    "def LOC(file):\n",
    "    return sum([1 for line in open(file)])"
   ]
  },
  {
   "cell_type": "code",
   "execution_count": null,
   "metadata": {},
   "outputs": [],
   "source": [
    "def extract_from_file(name, line):\n",
    "    x = re.search(\"^\" + name + \" (\\S+)\", line) "
   ]
  },
  {
   "cell_type": "code",
   "execution_count": 7,
   "metadata": {},
   "outputs": [],
   "source": [
    "# Number of methos\n",
    "def NOM(file):\n",
    "    pass"
   ]
  },
  {
   "cell_type": "code",
   "execution_count": 9,
   "metadata": {},
   "outputs": [],
   "source": [
    "def extract_require_from_line(line):\n",
    "    print(line)\n",
    "    x = re.search(\"^require (\\S+)\", line) \n",
    "    print(x)\n",
    "    return x.group(1)"
   ]
  },
  {
   "cell_type": "code",
   "execution_count": 110,
   "metadata": {},
   "outputs": [
    {
     "output_type": "stream",
     "name": "stdout",
     "text": "# frozen_string_literal: true\n\nNone\n"
    },
    {
     "output_type": "error",
     "ename": "AttributeError",
     "evalue": "'NoneType' object has no attribute 'group'",
     "traceback": [
      "\u001b[0;31m---------------------------------------------------------------------------\u001b[0m",
      "\u001b[0;31mAttributeError\u001b[0m                            Traceback (most recent call last)",
      "\u001b[0;32m<ipython-input-110-1d018241b14f>\u001b[0m in \u001b[0;36m<module>\u001b[0;34m\u001b[0m\n\u001b[1;32m      3\u001b[0m \u001b[0;32mfor\u001b[0m \u001b[0mline\u001b[0m \u001b[0;32min\u001b[0m \u001b[0mlines\u001b[0m\u001b[0;34m[\u001b[0m\u001b[0;34m:\u001b[0m\u001b[0;36m10\u001b[0m\u001b[0;34m]\u001b[0m\u001b[0;34m:\u001b[0m\u001b[0;34m\u001b[0m\u001b[0;34m\u001b[0m\u001b[0m\n\u001b[1;32m      4\u001b[0m     \u001b[0;31m# print(line)\u001b[0m\u001b[0;34m\u001b[0m\u001b[0;34m\u001b[0m\u001b[0;34m\u001b[0m\u001b[0m\n\u001b[0;32m----> 5\u001b[0;31m     \u001b[0mprint\u001b[0m\u001b[0;34m(\u001b[0m\u001b[0mextract_require_from_line\u001b[0m\u001b[0;34m(\u001b[0m\u001b[0mline\u001b[0m\u001b[0;34m)\u001b[0m\u001b[0;34m)\u001b[0m\u001b[0;34m\u001b[0m\u001b[0;34m\u001b[0m\u001b[0m\n\u001b[0m",
      "\u001b[0;32m<ipython-input-109-c15afedee5c2>\u001b[0m in \u001b[0;36mextract_require_from_line\u001b[0;34m(line)\u001b[0m\n\u001b[1;32m      5\u001b[0m     \u001b[0;31m# x = re.search(\"^require_relative (\\S+)\", line)\u001b[0m\u001b[0;34m\u001b[0m\u001b[0;34m\u001b[0m\u001b[0;34m\u001b[0m\u001b[0m\n\u001b[1;32m      6\u001b[0m     \u001b[0mprint\u001b[0m\u001b[0;34m(\u001b[0m\u001b[0mx\u001b[0m\u001b[0;34m)\u001b[0m\u001b[0;34m\u001b[0m\u001b[0;34m\u001b[0m\u001b[0m\n\u001b[0;32m----> 7\u001b[0;31m     \u001b[0;32mreturn\u001b[0m \u001b[0mx\u001b[0m\u001b[0;34m.\u001b[0m\u001b[0mgroup\u001b[0m\u001b[0;34m(\u001b[0m\u001b[0;36m1\u001b[0m\u001b[0;34m)\u001b[0m\u001b[0;34m\u001b[0m\u001b[0;34m\u001b[0m\u001b[0m\n\u001b[0m",
      "\u001b[0;31mAttributeError\u001b[0m: 'NoneType' object has no attribute 'group'"
     ]
    }
   ],
   "source": [
    "test_file = full_path('lib/kafka/message_buffer.rb')\n",
    "lines = [line for line in open(test_file)]\n",
    "for line in lines[:10]:\n",
    "    # print(line)\n",
    "    print(extract_require_from_line(line))\n",
    ""
   ]
  },
  {
   "cell_type": "code",
   "execution_count": 90,
   "metadata": {},
   "outputs": [
    {
     "output_type": "error",
     "ename": "AssertionError",
     "evalue": "",
     "traceback": [
      "\u001b[0;31m---------------------------------------------------------------------------\u001b[0m",
      "\u001b[0;31mAssertionError\u001b[0m                            Traceback (most recent call last)",
      "\u001b[0;32m<ipython-input-90-da60abe44e6e>\u001b[0m in \u001b[0;36m<module>\u001b[0;34m\u001b[0m\n\u001b[1;32m     13\u001b[0m \u001b[0;34m\u001b[0m\u001b[0m\n\u001b[1;32m     14\u001b[0m \u001b[0mtest_file\u001b[0m \u001b[0;34m=\u001b[0m \u001b[0mfull_path\u001b[0m\u001b[0;34m(\u001b[0m\u001b[0;34m'lib/kafka/message_buffer.rb'\u001b[0m\u001b[0;34m)\u001b[0m\u001b[0;34m\u001b[0m\u001b[0;34m\u001b[0m\u001b[0m\n\u001b[0;32m---> 15\u001b[0;31m \u001b[0;32massert\u001b[0m \u001b[0;34m\"kafka/protocol/message\"\u001b[0m \u001b[0;32min\u001b[0m \u001b[0mrequires\u001b[0m\u001b[0;34m(\u001b[0m\u001b[0mtest_file\u001b[0m\u001b[0;34m)\u001b[0m\u001b[0;34m\u001b[0m\u001b[0;34m\u001b[0m\u001b[0m\n\u001b[0m",
      "\u001b[0;31mAssertionError\u001b[0m: "
     ]
    }
   ],
   "source": [
    "def requires(file):\n",
    "    # extracts all the imported modules from a file\n",
    "    lines = [line for line in open(file)]\n",
    "    \n",
    "    all_requires = []\n",
    "    for line in lines:\n",
    "        try:\n",
    "            all_requires.append(extract_require_from_line(line))\n",
    "        except:\n",
    "            continue\n",
    "\n",
    "    return all_requires\n",
    "\n",
    "test_file = full_path('lib/kafka/message_buffer.rb')\n",
    "assert \"kafka/protocol/message\" in requires(test_file)"
   ]
  },
  {
   "cell_type": "code",
   "execution_count": 29,
   "metadata": {},
   "outputs": [],
   "source": [
    "directories = []\n",
    "for (dirpath, dirnames, filenames) in walk(ROOT_PATH):\n",
    "    directories.extend(dirnames)\n",
    "    break\n",
    "directories = list(filter(lambda x: x[0] != \".\", directories))"
   ]
  },
  {
   "cell_type": "code",
   "execution_count": 59,
   "metadata": {},
   "outputs": [],
   "source": [
    "def get_files(path, file_extension):\n",
    "    files = Path(path).rglob(\"*.\" + file_extension)\n",
    "    # Print all Ruby files from the Repo\n",
    "    ruby_files = []\n",
    "    for file in files:\n",
    "        ruby_files.append({'filename': str(file), 'LOC': LOC(file)})\n",
    "    return ruby_files"
   ]
  },
  {
   "cell_type": "code",
   "execution_count": 75,
   "metadata": {},
   "outputs": [],
   "source": [
    "def reduce_loc(list):\n",
    "    sum = 0\n",
    "    for el in list:\n",
    "        sum = sum + el['LOC']\n",
    "    return sum"
   ]
  },
  {
   "cell_type": "code",
   "execution_count": 81,
   "metadata": {},
   "outputs": [],
   "source": [
    "rails_modules = {}\n",
    "for directory in directories:\n",
    "    files = get_files(ROOT_PATH + '/' + directory + '/', 'rb')\n",
    "    average_LOC = int(reduce_loc(files) / len(files))\n",
    "    rails_modules[directory] = { 'files': files, 'average LOC': average_LOC }\n",
    "rails_modules = {k: v for k, v in sorted(rails_modules.items(), key = lambda item: item[0])}"
   ]
  },
  {
   "cell_type": "code",
   "execution_count": 117,
   "metadata": {},
   "outputs": [
    {
     "output_type": "stream",
     "name": "stdout",
     "text": "Ruby files | Ø LOC  | Module    \n-----------+--------+--------------\n86         | 80     | actioncable\n93         | 34     | actionmailbox\n41         | 140    | actionmailer\n325        | 202    | actionpack\n74         | 35     | actiontext\n186        | 231    | actionview\n118        | 70     | activejob \n130        | 118    | activemodel\n853        | 160    | activerecord\n124        | 62     | activestorage\n469        | 119    | activesupport\n1          | 22     | ci        \n22         | 69     | guides    \n278        | 148    | railties  \n1          | 323    | tasks     \n2          | 21     | tools     \n"
    }
   ],
   "source": [
    "from tabulate import tabulate\n",
    "format = \"{:<10}{:<1}{:<6}{:<1}{:<10}\"\n",
    "print(format.format(\"Ruby files\", \" | \", \"Ø LOC\", \" | \", \"Module\"))\n",
    "print('-----------+--------+--------------')\n",
    "for k, v in rails_modules.items():\n",
    "    print(format.format(len(v['files']), ' | ', v['average LOC'], ' | ', k))"
   ]
  }
 ]
}