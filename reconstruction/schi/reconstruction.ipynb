{
 "cells": [
  {
   "cell_type": "code",
   "execution_count": 98,
   "metadata": {},
   "outputs": [],
   "source": [
    "import sys\n",
    "import re\n",
    "import pandas as pd\n",
    "import os\n",
    "from os import walk\n",
    "from pathlib import Path\n",
    "from functools import reduce\n",
    "from tabulate import tabulate\n",
    "import networkx as nx\n",
    "import matplotlib.pyplot as plt"
   ]
  },
  {
   "cell_type": "code",
   "execution_count": 99,
   "metadata": {},
   "outputs": [],
   "source": [
    "ROOT_PATH = \"/Users/janschill/code/rails/rails\""
   ]
  },
  {
   "cell_type": "code",
   "execution_count": 100,
   "metadata": {},
   "outputs": [],
   "source": [
    "def full_path(file_name):\n",
    "    return ROOT_PATH + file_name"
   ]
  },
  {
   "cell_type": "code",
   "execution_count": 101,
   "metadata": {},
   "outputs": [],
   "source": [
    "# Number of lines\n",
    "def number_of_lines(file):\n",
    "    return sum([1 for line in open(file)])"
   ]
  },
  {
   "cell_type": "code",
   "execution_count": 102,
   "metadata": {},
   "outputs": [],
   "source": [
    "def extract_from_line(name, line):\n",
    "    if re.search(\"^([\\s]*#)\", line): # ignore comments\n",
    "        return None\n",
    "    elif name == 'def|end':\n",
    "        method = re.search(\"^([\\s]*(def |end)[ (\\S+)]*)\", line)\n",
    "        return str(method.group(1)) if method else None\n",
    "    elif name == 'module|class|end':\n",
    "        namespace = re.search(\"^([\\s]*(module|class|end)[ (\\S+)]*)\", line)\n",
    "        return str(namespace.group(1)) if namespace else None\n",
    "    else:\n",
    "        x = re.search(\"\" + name + \" (\\S+)\", line)\n",
    "        return None if x == None else str(x.group(1))"
   ]
  },
  {
   "cell_type": "code",
   "execution_count": 103,
   "metadata": {},
   "outputs": [],
   "source": [
    "def extract(file, keyword, all_lines = False):\n",
    "    extracts = []\n",
    "    if os.path.isfile(file):\n",
    "        for line in open(file):\n",
    "            extract = extract_from_line(keyword, line)\n",
    "            if extract or all_lines:\n",
    "                extracts.append(extract)\n",
    "    return extracts"
   ]
  },
  {
   "cell_type": "code",
   "execution_count": 104,
   "metadata": {},
   "outputs": [],
   "source": [
    "def extract_require(file):\n",
    "    extracts = extract(file, 'require')\n",
    "    return [x.replace('\"', '') for x in extracts]\n",
    "\n",
    "def extract_modules(file):\n",
    "    return extract(file, 'module')\n",
    "\n",
    "def extract_classes(file):\n",
    "    return extract(file, 'class')\n",
    "\n",
    "def extract_add_dependecy(file):\n",
    "    return extract(file, 'add_dependency')\n",
    "\n",
    "def extract_autoload(file):\n",
    "    extracts = extract(file, 'autoload')\n",
    "    extracts = [ex for ex in extracts if ',' not in ex]\n",
    "    extracts = [ex for ex in extracts if ':' in ex]\n",
    "    return [x.replace(':', '') for x in extracts]"
   ]
  },
  {
   "cell_type": "code",
   "execution_count": 105,
   "metadata": {},
   "outputs": [],
   "source": [
    "def clean_namespace(namespace):\n",
    "    return namespace.replace('module', '').replace('class', '').replace(' ', '')\n",
    "\n",
    "# Still does not work properly\n",
    "# It does not add correctly when inline class\n",
    "# Idea: add new namespace for every new encounter of module of class\n",
    "def extract_namespace(file):\n",
    "    namespaces = []\n",
    "    namespace = []\n",
    "    previous_identation = -1\n",
    "    for line in open(file):\n",
    "        extract = extract_from_line('module|class|end', line)\n",
    "        if extract == None:\n",
    "            continue\n",
    "        else:\n",
    "            if 'end' in extract and (len(extract) - len(extract.lstrip(' ')) == previous_identation):\n",
    "                namespaces.append(namespace.copy())\n",
    "            elif 'module' in extract or 'class' in extract:\n",
    "                current_identation = len(extract) - len(extract.lstrip(' '))\n",
    "                module_or_class = 'module' if 'module' in extract else 'class'\n",
    "                name = extract.split(module_or_class, maxsplit=1)[-1].split(maxsplit=1)[0]\n",
    "                current_namespace = clean_namespace(name)\n",
    "                if current_identation > previous_identation:\n",
    "                    namespace.append(current_namespace)\n",
    "                elif current_identation < previous_identation:\n",
    "                    del namespace[-1]\n",
    "                    if len(namespace) > 0:\n",
    "                        del namespace[-1]\n",
    "                    namespace.append(current_namespace)\n",
    "                else:\n",
    "                    del namespace[-1]\n",
    "                    namespace.append(current_namespace)\n",
    "                previous_identation = current_identation\n",
    "            else:\n",
    "                continue\n",
    "    return namespaces"
   ]
  },
  {
   "cell_type": "code",
   "execution_count": 106,
   "metadata": {},
   "outputs": [
    {
     "data": {
      "text/plain": [
       "[['ActionCable', '_function']]"
      ]
     },
     "execution_count": 106,
     "metadata": {},
     "output_type": "execute_result"
    }
   ],
   "source": [
    "extract_namespace('/Users/janschill/code/rails/rails/actioncable/lib/action_cable.rb')"
   ]
  },
  {
   "cell_type": "code",
   "execution_count": 107,
   "metadata": {},
   "outputs": [],
   "source": [
    "def retrieve_function_name(func):\n",
    "    function_name = re.search(\"def (\\S+)\", func)\n",
    "    return function_name.group(1)\n",
    "\n",
    "def add_function(function_name, line_count):\n",
    "    return {\n",
    "        'function_name': function_name,\n",
    "        'line_count': line_count,\n",
    "    }\n",
    "\n",
    "# TODO: This does not do nested functions ATM\n",
    "def extract_functions(file):\n",
    "    functions = []\n",
    "    line_count = 1\n",
    "    current_function_name = ''\n",
    "    def_identation = -1\n",
    "    for ext in extract(file, 'def|end', True):\n",
    "        if ext == None: # None, increment line_count\n",
    "            line_count += 1\n",
    "        else:\n",
    "            identation = len(ext) - len(ext.lstrip(' '))\n",
    "            if 'def ' in ext and ' end' in ext:\n",
    "                current_function_name = retrieve_function_name(ext)\n",
    "                functions.append(add_function(current_function_name, 1))\n",
    "            elif 'def ' in ext:\n",
    "                def_identation = identation\n",
    "                line_count = 0\n",
    "                current_function_name = retrieve_function_name(ext)\n",
    "            elif 'end' in ext and identation == def_identation:\n",
    "                functions.append(add_function(current_function_name, line_count))\n",
    "                current_function_name = ''\n",
    "                line_count = 1\n",
    "            else:\n",
    "                line_count += 1\n",
    "    return functions"
   ]
  },
  {
   "cell_type": "code",
   "execution_count": 108,
   "metadata": {},
   "outputs": [],
   "source": [
    "def number_of(file, keyword):\n",
    "    return sum([1 for line in open(file) if extract_from_line(keyword, line)])\n",
    "\n",
    "def number_of_modules(file):\n",
    "    return number_of(file, 'module')\n",
    "\n",
    "def number_of_functions(file):\n",
    "    return number_of(file, 'def')\n",
    "\n",
    "def number_of_requires(file):\n",
    "    return number_of(file, 'require')"
   ]
  },
  {
   "cell_type": "code",
   "execution_count": 109,
   "metadata": {},
   "outputs": [],
   "source": [
    "# Add all directories from repository root\n",
    "directories = []\n",
    "for (dirpath, dirnames, filenames) in walk(ROOT_PATH):\n",
    "    directories.extend(dirnames)\n",
    "    break\n",
    "directories = list(filter(lambda x: x[0] != \".\", directories)) # don't use hidden dirs"
   ]
  },
  {
   "cell_type": "markdown",
   "metadata": {},
   "source": [
    "## Add information to files"
   ]
  },
  {
   "cell_type": "code",
   "execution_count": 110,
   "metadata": {},
   "outputs": [],
   "source": [
    "def reduce_by_key(list, key):\n",
    "    sum = 0\n",
    "    for el in list:\n",
    "        sum = sum + el[key]\n",
    "    return sum"
   ]
  },
  {
   "cell_type": "code",
   "execution_count": 123,
   "metadata": {},
   "outputs": [],
   "source": [
    "def avg_func_length(functions):\n",
    "    if len(functions) > 0:\n",
    "        return int(reduce_by_key(functions, 'line_count') / len(functions))\n",
    "    return 0\n",
    "    \n",
    "def get_files(path, file_extension):\n",
    "    files = Path(path).rglob(\"*.\" + file_extension)\n",
    "    meta_data_files = {}\n",
    "    for file in files:\n",
    "        meta_data_files[str(file)] = {\n",
    "            'filename': str(file),\n",
    "            'no_lines': number_of_lines(file),\n",
    "            'no_modules': number_of_modules(file),\n",
    "            'no_functions': number_of_functions(file),\n",
    "            'functions': extract_functions(file),\n",
    "            'average_function_length': avg_func_length(extract_functions(file)),\n",
    "            'no_requires': len(extract_require(file)),\n",
    "            'requires': extract_require(file),\n",
    "            'namespace': extract_namespace(file),\n",
    "            'autoloads': extract_autoload(file)\n",
    "        }\n",
    "    return meta_data_files"
   ]
  },
  {
   "cell_type": "code",
   "execution_count": 112,
   "metadata": {},
   "outputs": [],
   "source": [
    "def clean_dependency(dependency):\n",
    "    return dependency.replace('\"', '').replace(',', '')\n",
    "\n",
    "def get_external_dependencies(directory):\n",
    "    gemspec_file = full_path('/' + directory + '/' + directory + '.gemspec')\n",
    "    dependencies = extract_add_dependecy(gemspec_file)\n",
    "    return [clean_dependency(d) for d in dependencies]"
   ]
  },
  {
   "cell_type": "markdown",
   "metadata": {},
   "source": [
    "## Add information to gems"
   ]
  },
  {
   "cell_type": "code",
   "execution_count": 139,
   "metadata": {},
   "outputs": [],
   "source": [
    "rails_components = {}\n",
    "for directory in directories:\n",
    "    files = get_files(full_path('/' + directory + '/'), 'rb')\n",
    "    average_LOC = int(reduce_by_key(files.values(), 'no_lines') / len(files.values()))\n",
    "    average_NOF = int(reduce_by_key(files.values(), 'no_functions') / len(files.values()))\n",
    "    average_requires = int(reduce_by_key(files.values(), 'no_requires') / len(files.values()))\n",
    "    average_function_LOC = int(reduce_by_key(files.values(), 'average_function_length') / len(files.values()))\n",
    "    dependencies = get_external_dependencies(directory)\n",
    "    rails_components[directory] = {\n",
    "        'files': files,\n",
    "        'average_LOC': average_LOC,\n",
    "        'average_NOF': average_NOF,\n",
    "        'average_function_LOC': average_function_LOC,\n",
    "        'average_requires': average_requires,\n",
    "        'dependencies': dependencies }\n",
    "rails_components = {k: v for k, v in sorted(rails_components.items(), key = lambda item: item[0])}"
   ]
  },
  {
   "cell_type": "code",
   "execution_count": 129,
   "metadata": {},
   "outputs": [],
   "source": [
    "def print_rails_components():\n",
    "    format = \"{:<15}{:<1}{:<10}{:<1}{:<7}{:<1}{:<11}{:<1}{:<14}{:<1}{:<10}{:<1}{:<10}\"\n",
    "    print(format.format(\"Component\", \" | \", \"Ruby files\", \" | \", \"Ø LOC\", \" | \", \"Ø Functions\", \" | \", \"Ø Function LOC\", \" | \", \"Ø Requires\", \" | \", \"Dependencies\"))\n",
    "    print('----------------+------------+---------+-------------+----------------+------------+-------------')\n",
    "    for k, v in rails_components.items():\n",
    "        print(format.format(k, ' | ' , len(v['files']), ' | ', v['average_LOC'], ' | ', v['average_NOF'], ' | ', v['average_function_LOC'], ' | ', v['average_requires'], ' | ', len(v['dependencies'])))"
   ]
  },
  {
   "cell_type": "markdown",
   "metadata": {},
   "source": [
    "## Rails gems"
   ]
  },
  {
   "cell_type": "code",
   "execution_count": 134,
   "metadata": {},
   "outputs": [
    {
     "name": "stdout",
     "output_type": "stream",
     "text": [
      "Component       | Ruby files | Ø LOC   | Ø Functions | Ø Function LOC | Ø Requires | Dependencies\n",
      "----------------+------------+---------+-------------+----------------+------------+-------------\n",
      "actioncable     | 86         | 79      | 6           | 3              | 1          | 4         \n",
      "actionmailbox   | 93         | 34      | 1           | 2              | 0          | 6         \n",
      "actionmailer    | 41         | 140     | 9           | 3              | 1          | 6         \n",
      "actionpack      | 325        | 202     | 16          | 4              | 1          | 6         \n",
      "actiontext      | 74         | 35      | 2           | 2              | 0          | 5         \n",
      "actionview      | 186        | 231     | 18          | 3              | 1          | 5         \n",
      "activejob       | 118        | 70      | 4           | 2              | 1          | 2         \n",
      "activemodel     | 130        | 118     | 8           | 4              | 1          | 1         \n",
      "activerecord    | 853        | 160     | 12          | 3              | 1          | 2         \n",
      "activestorage   | 124        | 62      | 3           | 1              | 1          | 5         \n",
      "activesupport   | 469        | 119     | 10          | 4              | 1          | 5         \n",
      "ci              | 1          | 22      | 0           | 0              | 2          | 0         \n",
      "guides          | 22         | 69      | 3           | 7              | 3          | 0         \n",
      "railties        | 278        | 148     | 9           | 4              | 3          | 5         \n",
      "tasks           | 1          | 323     | 5           | 4              | 6          | 0         \n",
      "tools           | 2          | 21      | 1           | 2              | 4          | 0         \n"
     ]
    }
   ],
   "source": [
    "print_rails_components()"
   ]
  },
  {
   "cell_type": "code",
   "execution_count": 137,
   "metadata": {},
   "outputs": [],
   "source": [
    "def all_rails_components():\n",
    "    return [\n",
    "        'activerecord', 'activesupport',\n",
    "        'actionpack', 'railties',\n",
    "        'actionview', 'activemodel',\n",
    "        'activestorage', 'activejob',\n",
    "        'actionmailbox', 'actioncable',\n",
    "        'actiontext', 'actionmailer'\n",
    "    ]"
   ]
  },
  {
   "cell_type": "code",
   "execution_count": 172,
   "metadata": {},
   "outputs": [
    {
     "data": {
      "image/png": "[encoded data removed]",
      "text/plain": [
       "<Figure size 432x288 with 1 Axes>"
      ]
     },
     "metadata": {},
     "output_type": "display_data"
    }
   ],
   "source": [
    "import matplotlib.pyplot as plt\n",
    "colors = [\n",
    "  '#757dfe',\n",
    "  '#ca1d65',\n",
    "  '#9ef84c',\n",
    "  '#ab06de',\n",
    "  '#5642cd',\n",
    "  '#724732',\n",
    "  '#77ba59',\n",
    "  '#02f5de',\n",
    "  '#6b94ba',\n",
    "  '#7b200c',\n",
    "  '#e223d9',\n",
    "  '#7c8003'\n",
    "]\n",
    "\n",
    "# Data to plot\n",
    "labels = [k for k in rails_components.keys() if k in all_rails_components()]\n",
    "sizes = [len(v['files']) for k, v in rails_components.items() if k in all_rails_components()]\n",
    "explode = [0.1,0.1,0.1,0.1,0.1,0.1,0.1,0.1,0.1,0.1,0.1,0.1,]\n",
    "plt.pie(sizes, labels=labels, explode=explode, colors=colors, autopct='%1.1f%%', shadow=True, startangle=140)\n",
    "plt.axis('equal')\n",
    "plt.show()"
   ]
  },
  {
   "cell_type": "markdown",
   "metadata": {},
   "source": [
    "## Lines of code"
   ]
  },
  {
   "cell_type": "code",
   "execution_count": null,
   "metadata": {},
   "outputs": [],
   "source": [
    "def rails_loc():\n",
    "    RAILS_LOC = 0\n",
    "    for k,v in rails_components.items():\n",
    "        for file in v['files'].values():\n",
    "            RAILS_LOC += file['no_lines']\n",
    "    return RAILS_LOC"
   ]
  },
  {
   "cell_type": "code",
   "execution_count": null,
   "metadata": {},
   "outputs": [],
   "source": [
    "rails_loc()"
   ]
  },
  {
   "cell_type": "code",
   "execution_count": null,
   "metadata": {},
   "outputs": [],
   "source": [
    "def data_frame_loc():\n",
    "    components = {}\n",
    "    no_functions = 0\n",
    "    for k,v in rails_components.items():\n",
    "        components[k] = 0\n",
    "        for file in v['files'].values():\n",
    "            components[k] += file['no_lines']\n",
    "            no_functions += file['no_functions']\n",
    "        rails_components[k]['no_lines'] = components[k] # add total LOC of gem to dic.\n",
    "        rails_components[k]['no_functions'] = no_functions # add total no. of functions of gem to dic.\n",
    "        no_functions = 0\n",
    "    components = {k: v for k, v in sorted(components.items(), key=lambda item: item[1], reverse=True)}\n",
    "    return components"
   ]
  },
  {
   "cell_type": "code",
   "execution_count": null,
   "metadata": {},
   "outputs": [],
   "source": [
    "RAILS_LOC = rails_loc()\n",
    "data_frame_loc = data_frame_loc()\n",
    "\n",
    "df = pd.DataFrame(data_frame_loc, index=['LOC'])\n",
    "ax = df.plot.barh(figsize=(20,5))"
   ]
  },
  {
   "cell_type": "code",
   "execution_count": null,
   "metadata": {},
   "outputs": [],
   "source": [
    "format = \"{:<15}{:<1}{:<6}{:<1}{:<6}\"\n",
    "print(format.format('Component', ' | ', 'LOC', ' | ', 'NOF'))\n",
    "print('----------------+--------+--------')\n",
    "for k, v in rails_components.items():\n",
    "    print(format.format(k, ' | ' , v['no_lines'], ' | ' , v['no_functions']))"
   ]
  },
  {
   "cell_type": "code",
   "execution_count": null,
   "metadata": {},
   "outputs": [],
   "source": [
    "def get_filename(path):\n",
    "    return os.path.basename(os.path.normpath(path)).replace('.rb', '')"
   ]
  },
  {
   "cell_type": "code",
   "execution_count": null,
   "metadata": {},
   "outputs": [],
   "source": [
    "format = \"{:<35}{:<1}{:<7}{:<1}{:<5}{:<1}{:<5}{:<1}\"\n",
    "print(format.format('Component', ' | ', 'LOC', ' | ', 'NOF', ' | ', 'NOR', ' | '))\n",
    "print('------------------------------------+---------+-------+-------|')\n",
    "for k, v in rails_components.items():\n",
    "    print(format.format(k, ' | ', rails_components[k]['no_lines'], ' | ', rails_components[k]['no_functions'], ' | ', '', ' | '))\n",
    "    print('------------------------------------+---------+-------+-------|')\n",
    "    files = sorted(v['files'].values(), key=lambda k: k['no_lines'], reverse=True)\n",
    "    for f in files[:5]:\n",
    "        print(format.format(get_filename(f['filename']), ' | ', f['no_lines'], ' | ', f['no_functions'], ' | ', f['no_requires'], ' | '))\n",
    "    print(format.format('…', ' | ', '-', ' | ', '-', ' | ', '-', ' | '))\n",
    "    print('------------------------------------+---------+-------+-------|')"
   ]
  },
  {
   "cell_type": "code",
   "execution_count": null,
   "metadata": {},
   "outputs": [],
   "source": [
    "def remove_root_path(path):\n",
    "    return path.replace(ROOT_PATH + '/', '')\n",
    "\n",
    "def remove_module_path(path, module):\n",
    "    return path.replace(module, '')\n",
    "\n",
    "def remove_filename(path):\n",
    "    return path.replace(os.path.basename(os.path.normpath(path)), '')\n",
    "\n",
    "def get_relative_path(path, module):\n",
    "    return remove_module_path(remove_root_path(remove_filename(path)), module)\n",
    "\n",
    "def get_filename(path):\n",
    "    return os.path.basename(os.path.normpath(path)).replace('.rb', '')"
   ]
  },
  {
   "cell_type": "markdown",
   "metadata": {},
   "source": [
    "## Component external dependencies"
   ]
  },
  {
   "cell_type": "code",
   "execution_count": null,
   "metadata": {},
   "outputs": [],
   "source": [
    "def module_size(component):\n",
    "    try:\n",
    "        return rails_components[component]['no_lines']*0.8 or 100\n",
    "    except KeyError as e:\n",
    "        return 100\n",
    "\n",
    "def dependencies_graph():\n",
    "    graph = nx.Graph()\n",
    "\n",
    "    for k, v in rails_components.items():\n",
    "        component = k\n",
    "        if component not in graph.nodes and len(v['dependencies']) != 0:\n",
    "            graph.add_node(component)\n",
    "\n",
    "        for each in v['dependencies']:\n",
    "            graph.add_edge(component, each)\n",
    "\n",
    "    return graph\n",
    "\n",
    "def draw_graph(graph):\n",
    "    plt.figure(figsize=(12,10))\n",
    "    nx.draw(graph, with_labels=True, node_color='lightblue')\n",
    "    plt.show()\n",
    "\n",
    "def draw_graph_with_weights(G, weight_function, figsize=(12,10)):\n",
    "    node_weights = [weight_function(each) for each in G.nodes]\n",
    "    plt.figure(figsize=figsize)\n",
    "    nx.draw(G, with_labels=True, node_size=node_weights, node_color='lightblue')\n",
    "    plt.show()"
   ]
  },
  {
   "cell_type": "code",
   "execution_count": null,
   "metadata": {},
   "outputs": [],
   "source": [
    "graph = dependencies_graph()\n",
    "draw_graph(graph)"
   ]
  },
  {
   "cell_type": "code",
   "execution_count": null,
   "metadata": {},
   "outputs": [],
   "source": [
    "graph = dependencies_graph()\n",
    "draw_graph_with_weights(graph, module_size, (40,20))"
   ]
  },
  {
   "cell_type": "code",
   "execution_count": null,
   "metadata": {},
   "outputs": [],
   "source": [
    "def camel_to_snake(s):\n",
    "    return re.sub(r'(?<!^)(?=[A-Z])', '_', s).lower()\n",
    "\n",
    "def get_filename_from_path(path):\n",
    "    return os.path.basename(os.path.normpath(path))"
   ]
  },
  {
   "cell_type": "code",
   "execution_count": null,
   "metadata": {},
   "outputs": [],
   "source": [
    "def get_path_from_filename(component, filename):\n",
    "    if not '.rb' in filename:\n",
    "        filename = filename + '.rb'\n",
    "    return [rails_components[component]['files'][key] for key in rails_components[component]['files'] if filename == get_filename_from_path(key)][0]['filename']"
   ]
  },
  {
   "cell_type": "code",
   "execution_count": null,
   "metadata": {},
   "outputs": [],
   "source": [
    "def file_size(file, component):\n",
    "    matches = [rails_components[component]['files'][key] for key in rails_components[component]['files'] if file == get_filename_from_path(key)]\n",
    "    if len(matches) == 1:\n",
    "        return matches[0]['no_lines']\n",
    "    else:\n",
    "        return 1"
   ]
  },
  {
   "cell_type": "code",
   "execution_count": null,
   "metadata": {},
   "outputs": [],
   "source": [
    "module = camel_to_snake(rails_components['activerecord']['files']['/Users/janschill/code/rails/rails/activerecord/lib/active_record.rb']['autoloads'][10])\n",
    "module = module + '.rb'\n",
    "\n",
    "print(module)\n",
    "print(file_size(module, 'activerecord'))\n",
    "get_path_from_filename('activerecord', module)"
   ]
  },
  {
   "cell_type": "code",
   "execution_count": null,
   "metadata": {},
   "outputs": [],
   "source": [
    "def component_as_file(component):\n",
    "    prefix = ''\n",
    "    if 'action' in component:\n",
    "        prefix = 'action'\n",
    "    else:\n",
    "        prefix = 'active'\n",
    "    return prefix + '_' + component.replace(prefix, '') + '.rb'"
   ]
  },
  {
   "cell_type": "code",
   "execution_count": null,
   "metadata": {},
   "outputs": [],
   "source": [
    "component = 'activerecord'\n",
    "component_filename = component_as_file(component)\n",
    "path = get_path_from_filename(component, component_filename)\n",
    "autoloads = rails_components[component]['files'][path]['autoloads']"
   ]
  },
  {
   "cell_type": "code",
   "execution_count": null,
   "metadata": {},
   "outputs": [],
   "source": [
    "def autoload_graph(component):\n",
    "    graph = nx.Graph()\n",
    "    component_filename = component_as_file(component)\n",
    "    component_path = get_path_from_filename(component, component_filename)\n",
    "    autoloads = rails_components[component]['files'][component_path]['autoloads']\n",
    "    graph.add_node(component_filename)\n",
    "    for autoload in autoloads:\n",
    "        autoload = camel_to_snake(autoload) + '.rb'\n",
    "        if autoload not in graph.nodes:\n",
    "            graph.add_node(autoload)\n",
    "\n",
    "        graph.add_edge(component_filename, autoload)\n",
    "\n",
    "    return graph\n",
    "\n",
    "def draw_graph_with_weights(graph, component, weight_function, figsize=(50,30)):\n",
    "    node_weights = [weight_function(each, component)*20 for each in graph.nodes]\n",
    "    plt.figure(figsize=figsize)\n",
    "    nx.draw(graph, with_labels=True, node_size=node_weights, node_color='lightblue')\n",
    "    plt.show()"
   ]
  },
  {
   "cell_type": "code",
   "execution_count": null,
   "metadata": {},
   "outputs": [],
   "source": [
    "def is_rails_component(component):\n",
    "    return 'active' in component or 'action' in component"
   ]
  },
  {
   "cell_type": "code",
   "execution_count": null,
   "metadata": {},
   "outputs": [],
   "source": [
    "components = [(k,v) for k, v in rails_components.items() if is_rails_component(k) ]\n",
    "for k, v in components:\n",
    "    draw_graph_with_weights(autoload_graph(k), k, file_size)"
   ]
  }
 ],
 "metadata": {
  "file_extension": ".py",
  "kernelspec": {
   "display_name": "Python 3.7.4 64-bit",
   "language": "python",
   "name": "python37464bitcb14106912414518be329d616dad403d"
  },
  "language_info": {
   "codemirror_mode": {
    "name": "ipython",
    "version": 3
   },
   "file_extension": ".py",
   "mimetype": "text/x-python",
   "name": "python",
   "nbconvert_exporter": "python",
   "pygments_lexer": "ipython3",
   "version": "3.7.4"
  },
  "mimetype": "text/x-python",
  "name": "python",
  "npconvert_exporter": "python",
  "pygments_lexer": "ipython3",
  "version": 3
 },
 "nbformat": 4,
 "nbformat_minor": 2
}
