{
 "cells": [
  {
   "cell_type": "code",
   "execution_count": 1,
   "metadata": {},
   "outputs": [],
   "source": [
    "import sys\n",
    "import re\n",
    "from os import walk\n",
    "from pathlib import Path\n",
    "from functools import reduce"
   ]
  },
  {
   "cell_type": "code",
   "execution_count": 3,
   "metadata": {},
   "outputs": [],
   "source": [
    "ROOT_PATH = \"/Users/janschill/code/rails/rails\""
   ]
  },
  {
   "cell_type": "code",
   "execution_count": 4,
   "metadata": {},
   "outputs": [],
   "source": [
    "def full_path(file_name):\n",
    "    return ROOT_PATH + file_name"
   ]
  },
  {
   "cell_type": "code",
   "execution_count": 5,
   "metadata": {},
   "outputs": [],
   "source": [
    "# Number of lines\n",
    "def LOC(file):\n",
    "    return sum([1 for line in open(file)])"
   ]
  },
  {
   "cell_type": "code",
   "execution_count": 97,
   "metadata": {},
   "outputs": [],
   "source": [
    "def extract_from_line(name, line):\n",
    "    if re.search(\"^([\\s]*#)\", line): # ignore comments\n",
    "        return None\n",
    "    elif name == 'module' or 'class':\n",
    "        namespace = re.search(\"^([\\s]*(module|class) (\\S+))\", line)\n",
    "        namespace = str(namespace.group(1))\n",
    "        return namespace.replace('module', '').replace(' ', '')\n",
    "    else:\n",
    "        x = re.search(\"\" + name + \" (\\S+)\", line)\n",
    "        return None if x == None else str(x.group(1))"
   ]
  },
  {
   "cell_type": "code",
   "execution_count": 98,
   "metadata": {},
   "outputs": [
    {
     "output_type": "execute_result",
     "data": {
      "text/plain": "'ActionCable'"
     },
     "metadata": {},
     "execution_count": 98
    }
   ],
   "source": [
    "extract_from_line('module', 'module ActionCable')"
   ]
  },
  {
   "cell_type": "code",
   "execution_count": 22,
   "metadata": {},
   "outputs": [],
   "source": [
    "# Number of methods\n",
    "def number_of(file, key_word):\n",
    "    return sum([1 for line in open(file) if extract_from_line(key_word, line)])\n",
    "\n",
    "def extract_requires(file):\n",
    "    requires = []\n",
    "    for line in open(file):\n",
    "        require = extract_from_line('require', line)\n",
    "        if require:\n",
    "            requires.append(require)\n",
    "    return requires"
   ]
  },
  {
   "cell_type": "code",
   "execution_count": 8,
   "metadata": {},
   "outputs": [],
   "source": [
    "def number_of_modules(file):\n",
    "    return number_of(file, 'module')\n",
    "\n",
    "def number_of_methods(file):\n",
    "    return number_of(file, 'def')\n",
    "\n",
    "def number_of_requires(file):\n",
    "    return number_of(file, 'require')"
   ]
  },
  {
   "cell_type": "code",
   "execution_count": 9,
   "metadata": {},
   "outputs": [],
   "source": [
    "directories = []\n",
    "for (dirpath, dirnames, filenames) in walk(ROOT_PATH):\n",
    "    directories.extend(dirnames)\n",
    "    break\n",
    "directories = list(filter(lambda x: x[0] != \".\", directories)) # don't use hidden dirs"
   ]
  },
  {
   "cell_type": "code",
   "execution_count": 38,
   "metadata": {},
   "outputs": [],
   "source": [
    "def get_files(path, file_extension):\n",
    "    files = Path(path).rglob(\"*.\" + file_extension)\n",
    "    meta_data_files = []\n",
    "    for file in files:\n",
    "        meta_data_files.append({\n",
    "            'filename': str(file),\n",
    "            'LOC': LOC(file),\n",
    "            'no_modules': number_of_modules(file),\n",
    "            'no_methods': number_of_methods(file),\n",
    "            'no_requires': len(extract_requires(file)),\n",
    "            'requires': extract_requires(file)\n",
    "        })\n",
    "    return meta_data_files"
   ]
  },
  {
   "cell_type": "code",
   "execution_count": 11,
   "metadata": {},
   "outputs": [],
   "source": [
    "def reduce_by_key(list, key):\n",
    "    sum = 0\n",
    "    for el in list:\n",
    "        sum = sum + el[key]\n",
    "    return sum"
   ]
  },
  {
   "cell_type": "code",
   "execution_count": 31,
   "metadata": {},
   "outputs": [],
   "source": [
    "rails_modules = {}\n",
    "for directory in directories:\n",
    "    files = get_files(full_path('/' + directory + '/'), 'rb')\n",
    "    average_LOC = int(reduce_by_key(files, 'LOC') / len(files))\n",
    "    average_NOM = int(reduce_by_key(files, 'no_methods') / len(files))\n",
    "    average_requires = int(reduce_by_key(files, 'no_requires') / len(files))\n",
    "    rails_modules[directory] = {\n",
    "        'files': files,\n",
    "        'average LOC': average_LOC ,\n",
    "        'average NOM': average_NOM,\n",
    "        'average requires': average_requires }\n",
    "rails_modules = {k: v for k, v in sorted(rails_modules.items(), key = lambda item: item[0])}"
   ]
  },
  {
   "cell_type": "code",
   "execution_count": 35,
   "metadata": {},
   "outputs": [
    {
     "output_type": "stream",
     "name": "stdout",
     "text": "Module          | Ruby files | Ø LOC   | Ø Methods  | Ø Requires\n----------------+------------+---------+------------+-----------\nactioncable     | 86         | 80      | 6          | 1         \nactionmailbox   | 93         | 34      | 1          | 0         \nactionmailer    | 41         | 140     | 9          | 1         \nactionpack      | 325        | 202     | 16         | 1         \nactiontext      | 74         | 35      | 2          | 0         \nactionview      | 186        | 231     | 18         | 1         \nactivejob       | 118        | 70      | 5          | 1         \nactivemodel     | 130        | 118     | 8          | 1         \nactiverecord    | 853        | 160     | 12         | 1         \nactivestorage   | 124        | 62      | 3          | 1         \nactivesupport   | 469        | 119     | 10         | 1         \nci              | 1          | 22      | 0          | 2         \nguides          | 22         | 69      | 3          | 3         \nrailties        | 278        | 148     | 9          | 3         \ntasks           | 1          | 323     | 5          | 6         \ntools           | 2          | 21      | 1          | 4         \n"
    }
   ],
   "source": [
    "from tabulate import tabulate\n",
    "format = \"{:<15}{:<1}{:<10}{:<1}{:<7}{:<1}{:<10}{:<1}{:<10}\"\n",
    "print(format.format(\"Module\", \" | \", \"Ruby files\", \" | \", \"Ø LOC\", \" | \", \"Ø Methods\", \" | \", \"Ø Requires\"))\n",
    "print('----------------+------------+---------+------------+-----------')\n",
    "for k, v in rails_modules.items():\n",
    "    print(format.format(k, ' | ' , len(v['files']), ' | ', v['average LOC'], ' | ', v['average NOM'], ' | ', v['average requires']))"
   ]
  },
  {
   "cell_type": "code",
   "execution_count": 37,
   "metadata": {},
   "outputs": [],
   "source": [
    "# ActionCable\n",
    "action_cable = rails_modules['actioncable']\n"
   ]
  }
 ],
 "metadata": {
  "language_info": {
   "name": "python",
   "codemirror_mode": {
    "name": "ipython",
    "version": 3
   },
   "version": "3.7.4-final"
  },
  "orig_nbformat": 2,
  "file_extension": ".py",
  "mimetype": "text/x-python",
  "name": "python",
  "npconvert_exporter": "python",
  "pygments_lexer": "ipython3",
  "version": 3,
  "kernelspec": {
   "name": "python37464bitcb14106912414518be329d616dad403d",
   "display_name": "Python 3.7.4 64-bit"
  }
 },
 "nbformat": 4,
 "nbformat_minor": 2
}